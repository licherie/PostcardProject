{
 "cells": [
  {
   "cell_type": "markdown",
   "metadata": {},
   "source": [
    "Let's take a look at some of the detected circles using our second trial of our script (findCirclesTry2): "
   ]
  },
  {
   "cell_type": "markdown",
   "metadata": {},
   "source": [
    "<table><tr><td><img src=\"files/postcard248Back.jpg\"></td><td><img src=\"files/postcard248BackChecked.jpg\"></td></tr></table>\n",
    "<table><tr><td><img src=\"files/postcard251Back.jpg\"></td><td><img src=\"files/postcard251BackChecked.jpg\"></td></tr></table>"
   ]
  },
  {
   "cell_type": "markdown",
   "metadata": {},
   "source": [
    "Not bad. In either case, although we have two circles, we still have our identified area of interest. Actually, these detections were from the forwards direction of the script (initialGuess1), where dp is being increased. \n",
    "What happens when we include both directions? (approaching detection from above and below). Furthermore what happens when the result isn't exactly as we want it? "
   ]
  },
  {
   "cell_type": "markdown",
   "metadata": {},
   "source": [
    "<table><tr><td><img src=\"files/postcard261BackChecked.jpg\"></td><td><img src=\"files/postcard261BackChecked2.jpg\"></td></tr></table>"
   ]
  },
  {
   "cell_type": "markdown",
   "metadata": {},
   "source": [
    "For the postcard on the right, the false circle on the right was found by decreasing our radius (starting with large radius). We could decrease the largest radius but this is not ideal as there are some circles of this size. Let's take a look at some other detections. "
   ]
  },
  {
   "cell_type": "markdown",
   "metadata": {},
   "source": [
    "<table><tr><td><img src=\"files/postcard269BackChecked.jpg\"></td><td><img src=\"files/postcard269BackChecked2.jpg\"></td></tr></table>"
   ]
  },
  {
   "cell_type": "markdown",
   "metadata": {},
   "source": [
    "Interestingly enough, when we are starting with minimum radius, the script detects false circle on the right. But going the other way, we are able to detect the circle. So our loop is not perfect but it is much better than when we did not vary dp. Also, we would rather have false positive than not detect any circle. Let's take a look at some more images and issues below.\n",
    "\n",
    "False detection in circular stamp region. This issue is possible to be circumvented by either 1. detection region of square and excluding circles with center in that region or 2. excluding the top right region from circle centers. Notice that it is possible for the circular stamp to overlap with the square stamp but it is usually not exactly in the center"
   ]
  },
  {
   "cell_type": "markdown",
   "metadata": {},
   "source": [
    "<table><tr><td><img src=\"files/postcard651BackChecked.jpg\"></td><td><img src=\"files/postcard651BackChecked2.jpg\"></td></tr></table>"
   ]
  },
  {
   "cell_type": "markdown",
   "metadata": {},
   "source": [
    "Below are two detections accurate enough for our purpose. "
   ]
  },
  {
   "cell_type": "markdown",
   "metadata": {},
   "source": [
    "<table><tr><td><img src=\"files/postcard657BackChecked.jpg\"></td><td><img src=\"files/postcard657BackChecked2.jpg\"></td></tr></table>\n",
    "<table><tr><td><img src=\"files/postcard668BackChecked.jpg\"></td><td><img src=\"files/postcard668BackChecked2.jpg\"></td></tr></table>"
   ]
  },
  {
   "cell_type": "markdown",
   "metadata": {},
   "source": [
    "And sometimes we detect circles where there are \"none\" from our point of view. In my opinion this is the hardest issue to address but also not fatal as again we prefer to have false positive than risk missing stamp. \n",
    "<table><tr><td><img src=\"files/postcard673BackChecked.jpg\"></td><td><img src=\"files/postcard673BackChecked2.jpg\"></td></tr></table>"
   ]
  },
  {
   "cell_type": "markdown",
   "metadata": {},
   "source": [
    "So in conclusion, our loop is far from perfect but it is much improved! This is exciting, considering the frustration that I was facing a few days ago just adjusting the parameters by hand. We will continue to address the issues found and improve the accuracy. "
   ]
  }
 ],
 "metadata": {
  "kernelspec": {
   "display_name": "Python 3",
   "language": "python",
   "name": "python3"
  },
  "language_info": {
   "codemirror_mode": {
    "name": "ipython",
    "version": 3
   },
   "file_extension": ".py",
   "mimetype": "text/x-python",
   "name": "python",
   "nbconvert_exporter": "python",
   "pygments_lexer": "ipython3",
   "version": "3.7.3"
  }
 },
 "nbformat": 4,
 "nbformat_minor": 2
}
